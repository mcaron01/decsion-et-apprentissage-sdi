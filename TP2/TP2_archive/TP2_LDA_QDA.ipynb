{
 "cells": [
  {
   "cell_type": "markdown",
   "metadata": {},
   "source": [
    "## TP2 : Classification using Linear & Quadratic Discriminant Analysis\n",
    "\n",
    "First think of configuring your notebook :"
   ]
  },
  {
   "cell_type": "code",
   "execution_count": null,
   "metadata": {
    "collapsed": true
   },
   "outputs": [],
   "source": [
    "import csv\n",
    "# import os\n",
    "from pylab import *\n",
    "import numpy as np\n",
    "from numpy import linalg as la\n"
   ]
  },
  {
   "cell_type": "markdown",
   "metadata": {},
   "source": [
    "## Reading synthetic data\n",
    "Load the training and test data sets |synth_train.txt| and\n",
    "|synth_test.txt| already used for Knn. Targets belong to {1,2} and entries belong to R^2.\n",
    "We have 100 training data samples and 200 test samples.\n",
    "\n",
    "* the 1st column contains the label of the class the sample, \n",
    "* columns 2 & 3 contain the coordinates of each sample in 2D."
   ]
  },
  {
   "cell_type": "code",
   "execution_count": null,
   "metadata": {},
   "outputs": [],
   "source": [
    "train = np.loadtxt('synth_train.txt')\n",
    "\n",
    "test = np.loadtxt('synth_test.txt')"
   ]
  },
  {
   "cell_type": "markdown",
   "metadata": {},
   "source": [
    "## Recall about the main steps of discriminant analysis:\n",
    "* estimation of weights `pi_1` and `pi_2` for each class,\n",
    "* estimation of empirical means `mu_1` and `mu_2` for each class, \n",
    "* estimation of empirical covariance matrices  `sigma_1` and `sigma_2`,\n",
    "* computation of the common averaged covariance `sigma` (average of intra-class covariances),\n",
    "* computation of log-probabilities of belonging to each class,\n",
    "* decision of classification,\n",
    "* display results.\n"
   ]
  },
  {
   "cell_type": "markdown",
   "metadata": {},
   "source": [
    "## TO DO : linear & quadratic discriminant analysis (LDA & QDA)\n",
    "1. Implement a classifier using LDA of the data set. \n",
    "2. Then implement QDA classification.\n",
    "3. In each case (LDA & QDA) show the decision boundary and\n",
    "compute the error rate respectively for the training set and the test set. \n",
    "4. Compare and comment on your results with LDA and QDA.\n",
    "5. You may also compare your results to K nearest neighbours.\n",
    "\n",
    "_Indication 1 : matrices `sigma` are of size 2x2.\n",
    "More generally, be careful of the sizes of vectors and matrices you\n",
    "manipulate._\n",
    "\n",
    "_Indication 2 : to display the regions of decision, you may use:_\n"
   ]
  },
  {
   "cell_type": "code",
   "execution_count": null,
   "metadata": {},
   "outputs": [],
   "source": [
    "Nx1=100 # number of samples for display\n",
    "Nx2=100\n",
    "x1=np.linspace(-2.5,1.5,Nx1)  # sampling of the x1 axis \n",
    "x2=np.linspace(-0.5,3.5,Nx2)  # sampling of the x2 axis\n",
    "[X1,X2]=np.meshgrid(x1,x2)  \n",
    "x=np.hstack((X1.flatten('F'),X2.flatten('F'))) # list of the coordinates of points on the grid\n",
    "#N = size(x,axis=0)\n",
    "\n",
    "# Then compute the sampled prediction class_L for each couple (X1,X2)"
   ]
  },
  {
   "cell_type": "code",
   "execution_count": null,
   "metadata": {},
   "outputs": [],
   "source": [
    "# For graphical representation  use code below for instance :\n",
    "class_L = ...\n",
    "plt.imshow(class_L, extent = (np.min(x1),np.max(x1),np.min(x2),np.max(x2)) )\n",
    "plt.show()"
   ]
  },
  {
   "cell_type": "markdown",
   "metadata": {},
   "source": [
    "## TO DO : LDA & QDA using scikit-learn module\n",
    "\n",
    "The module `scikit-learn` is dedicated to machine learning algorithms. Many of them are available in a simple manner. For LDA and QDA, have a look at the tutorial available at http://scikit-learn.org/stable/modules/lda_qda.html \n",
    "\n",
    "**Warning** : you may have a critical view of the way LDA and QDA are illustrated in the proposed example...\n",
    "\n",
    "\n"
   ]
  }
 ],
 "metadata": {
  "kernelspec": {
   "display_name": "Python 3",
   "language": "python",
   "name": "python3"
  },
  "language_info": {
   "codemirror_mode": {
    "name": "ipython",
    "version": 3
   },
   "file_extension": ".py",
   "mimetype": "text/x-python",
   "name": "python",
   "nbconvert_exporter": "python",
   "pygments_lexer": "ipython3",
   "version": "3.6.2"
  }
 },
 "nbformat": 4,
 "nbformat_minor": 2
}
